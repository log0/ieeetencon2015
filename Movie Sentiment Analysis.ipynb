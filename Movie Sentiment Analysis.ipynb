{
 "cells": [
  {
   "cell_type": "code",
   "execution_count": 1,
   "metadata": {
    "collapsed": true
   },
   "outputs": [],
   "source": [
    "import os\n",
    "import random\n",
    "\n",
    "import numpy as np\n",
    "from sklearn.cross_validation import *\n",
    "from sklearn.decomposition import *\n",
    "from sklearn.ensemble import *\n",
    "from sklearn.feature_extraction.text import *\n",
    "from sklearn.linear_model import *\n",
    "from sklearn.naive_bayes import *\n",
    "from sklearn.metrics import *\n",
    "from sklearn.pipeline import *"
   ]
  },
  {
   "cell_type": "code",
   "execution_count": 2,
   "metadata": {
    "collapsed": true
   },
   "outputs": [],
   "source": [
    "DATA_PATH_PREFIX = './txt_sentoken/'"
   ]
  },
  {
   "cell_type": "code",
   "execution_count": 3,
   "metadata": {
    "collapsed": true
   },
   "outputs": [],
   "source": [
    "random.seed(5001)"
   ]
  },
  {
   "cell_type": "code",
   "execution_count": 4,
   "metadata": {
    "collapsed": true
   },
   "outputs": [],
   "source": [
    "def shuffle_in_unison(X, Y):\n",
    "    assert X.shape[0] == Y.shape[0]\n",
    "    n = X.shape[0]\n",
    "    indices = np.arange(n)\n",
    "    random.shuffle(indices)\n",
    "    X = X[indices]\n",
    "    Y = Y[indices]\n",
    "    return X, Y"
   ]
  },
  {
   "cell_type": "code",
   "execution_count": 5,
   "metadata": {
    "collapsed": true
   },
   "outputs": [],
   "source": [
    "def target_to_int(target):\n",
    "    if target == 'pos': return 1\n",
    "    if target == 'neg': return 0\n",
    "    raise ValueError('Invalid label')\n",
    "\n",
    "def load_reviews_for_target(target):\n",
    "    data_dir = DATA_PATH_PREFIX + target + '/'\n",
    "    X = []\n",
    "    Y = []\n",
    "    for folder, subfolders, filenames in os.walk(data_dir):\n",
    "        for filename in filenames:\n",
    "            path = os.path.join(folder, filename)\n",
    "            x = open(path, 'r').read()\n",
    "            y = target_to_int(target)\n",
    "            \n",
    "            X.append(x)\n",
    "            Y.append(y)\n",
    "    return X, Y\n",
    "\n",
    "def load_reviews():\n",
    "    X_pos, Y_pos = load_reviews_for_target('pos')\n",
    "    X_neg, Y_neg = load_reviews_for_target('neg')\n",
    "    assert len(X_pos) == len(Y_pos)\n",
    "    assert len(X_neg) == len(Y_neg)\n",
    "    X = np.hstack((X_pos, X_neg))\n",
    "    Y = np.hstack((Y_pos, Y_neg))\n",
    "    assert X.shape[0] == Y.shape[0]\n",
    "    return X, Y"
   ]
  },
  {
   "cell_type": "markdown",
   "metadata": {},
   "source": [
    "Loads the movie reviews raw data."
   ]
  },
  {
   "cell_type": "code",
   "execution_count": 6,
   "metadata": {
    "collapsed": false
   },
   "outputs": [],
   "source": [
    "X, Y = load_reviews()"
   ]
  },
  {
   "cell_type": "code",
   "execution_count": 7,
   "metadata": {
    "collapsed": false
   },
   "outputs": [
    {
     "name": "stdout",
     "output_type": "stream",
     "text": [
      "X.shape = (2000,)\n",
      "Y.shape = (2000,)\n"
     ]
    }
   ],
   "source": [
    "print 'X.shape = %s' % (str(X.shape))\n",
    "print 'Y.shape = %s' % (str(Y.shape))"
   ]
  },
  {
   "cell_type": "code",
   "execution_count": 8,
   "metadata": {
    "collapsed": false
   },
   "outputs": [
    {
     "name": "stdout",
     "output_type": "stream",
     "text": [
      "Target [1]. Text : [after watching \" rat race \" last week , i noticed my cheeks were sore and realized that , when not laughing aloud , i had held a grin for virtually all of the film's 112 minutes . \n",
      "saturday night , i attended another sneak preview for the movie and damned if i didn't enjoy it as much the second time as the first . \n",
      " \" rat race \" is a great goofy delight , a dandy mix of energetic performances , inspired sight gags and flat-out silliness . \n",
      "hands down , this is the most fun film of the summer . \n",
      "the movie begins with zippy retro-style opening credits that look like they were torn straight out of a '60s slapstick comedy , featuring animated photos of the cast attached to herky-jerky bodies bounding around the screen . \n",
      "then comes the setup . \n",
      "donald sinclair ( john cleese ) , the extremely rich owner of the venetian hotel and casino in las vegas , enjoys concocting unusual bets for his high rolling clients . \n",
      "to that end , he places a half dozen very special tokens in his slot machines .]\n"
     ]
    }
   ],
   "source": [
    "print 'Target [%s]. Text : [%s]' % (Y[10], X[10][:1000])"
   ]
  },
  {
   "cell_type": "code",
   "execution_count": 9,
   "metadata": {
    "collapsed": false
   },
   "outputs": [
    {
     "name": "stdout",
     "output_type": "stream",
     "text": [
      "Target [1]. Text : [national lampoon's animal house , made in 1978 and set in 1962 , remains one of the -- no , fuck that noise -- * the * funniest movie ever made . \n",
      "and this isn't just my opinion , either ; everybody knows this , and that's why about a gazillion inferior rip-offs have been made , trying to duplicate its success . \n",
      " ( pcu anyone ? \n",
      "and the first person to bring up glory daze gets decked . ) \n",
      "animal house takes place at the fictional faber college , circa 1962 , where the omega frat calls the shots . \n",
      "these guys are wholesome , clean-cut , model-citizens . . . \n",
      "i . e . \n",
      "a bunch of assholes . \n",
      "greg , their leader , is going out with mandy pepperidge , but since the silly bastard doesn't believe in pre-marital sex , their relationship never goes further than a quick jack-off under the stars . \n",
      "neidermeyer is the supreme-bozo of the bunch , walking around with his dick out kicking freshman ass and trying to impress the muff . \n",
      "also hanging around these losers is babs , future universal studi]\n"
     ]
    }
   ],
   "source": [
    "print 'Target [%s]. Text : [%s]' % (Y[50], X[50][:1000])"
   ]
  },
  {
   "cell_type": "code",
   "execution_count": 10,
   "metadata": {
    "collapsed": false
   },
   "outputs": [],
   "source": [
    "vec = TfidfVectorizer(min_df = 2, binary = False, max_features = 5000, norm = 'l2', \\\n",
    "                      smooth_idf = True, sublinear_tf = True, strip_accents = 'unicode', ngram_range = (1,2))\n",
    "X = vec.fit_transform(X)"
   ]
  },
  {
   "cell_type": "code",
   "execution_count": 11,
   "metadata": {
    "collapsed": false
   },
   "outputs": [
    {
     "name": "stdout",
     "output_type": "stream",
     "text": [
      "  (0, 2097)\t0.0539521213271\n",
      "  (0, 1936)\t0.0612564806551\n",
      "  (0, 2182)\t0.0623279500936\n",
      "  (0, 650)\t0.0291614645782\n",
      "  (0, 377)\t0.0620517670827\n",
      "  (0, 392)\t0.0617812789746\n",
      "  (0, 1468)\t0.0515358461756\n",
      "  (0, 1834)\t0.0529589178657\n",
      "  (0, 4024)\t0.0404558916491\n",
      "  (0, 656)\t0.0293183024144\n",
      "  (0, 4894)\t0.0206958547527\n",
      "  (0, 4004)\t0.0445677443688\n",
      "  (0, 4153)\t0.0426905176693\n",
      "  (0, 2004)\t0.0453090833243\n",
      "  (0, 247)\t0.0631932004655\n",
      "  (0, 4026)\t0.0631932004655\n",
      "  (0, 3974)\t0.0535172237602\n",
      "  (0, 4461)\t0.05568277434\n",
      "  (0, 4072)\t0.0291818136668\n",
      "  (0, 4347)\t0.051054389994\n",
      "  (0, 1261)\t0.0438660686487\n",
      "  (0, 2542)\t0.0467591946777\n",
      "  (0, 3533)\t0.0536605935858\n",
      "  (0, 2226)\t0.0430066343746\n",
      "  (0, 387)\t0.0470172661181\n",
      "  :\t:\n",
      "  (0, 4270)\t0.0169336679531\n",
      "  (0, 632)\t0.0405653412896\n",
      "  (0, 4934)\t0.0487793446691\n",
      "  (0, 1617)\t0.064775623557\n",
      "  (0, 943)\t0.056732791266\n",
      "  (0, 4003)\t0.0633747881269\n",
      "  (0, 2326)\t0.0420802584061\n",
      "  (0, 4504)\t0.0541003512485\n",
      "  (0, 3015)\t0.0375802299035\n",
      "  (0, 3723)\t0.0749184897\n",
      "  (0, 453)\t0.0565518475907\n",
      "  (0, 29)\t0.0411283780878\n",
      "  (0, 3298)\t0.0270473370921\n",
      "  (0, 4288)\t0.0286711921513\n",
      "  (0, 4813)\t0.0436626814975\n",
      "  (0, 3844)\t0.0441422516596\n",
      "  (0, 2884)\t0.0477856506113\n",
      "  (0, 3167)\t0.0507045503692\n",
      "  (0, 1701)\t0.0494961667703\n",
      "  (0, 1751)\t0.0267385774373\n",
      "  (0, 572)\t0.0582778936823\n",
      "  (0, 841)\t0.102668925447\n",
      "  (0, 1562)\t0.0469109614488\n",
      "  (0, 79)\t0.0626100729771\n",
      "  (0, 1441)\t0.0246461298493\n"
     ]
    }
   ],
   "source": [
    "print X[0]"
   ]
  },
  {
   "cell_type": "markdown",
   "metadata": {},
   "source": [
    "Split the (X, Y) into training set and validation set."
   ]
  },
  {
   "cell_type": "code",
   "execution_count": 12,
   "metadata": {
    "collapsed": true
   },
   "outputs": [],
   "source": [
    "X_train, X_cv, Y_train, Y_cv = train_test_split(X, Y, test_size = 0.2, random_state = 5005)"
   ]
  },
  {
   "cell_type": "code",
   "execution_count": 13,
   "metadata": {
    "collapsed": false
   },
   "outputs": [],
   "source": [
    "model = BernoulliNB(alpha = 1)\n",
    "model.fit(X_train, Y_train)\n",
    "Y_cv_pred = model.predict(X_cv)\n",
    "score = accuracy_score(Y_cv_pred, Y_cv)"
   ]
  },
  {
   "cell_type": "code",
   "execution_count": 14,
   "metadata": {
    "collapsed": false
   },
   "outputs": [
    {
     "name": "stdout",
     "output_type": "stream",
     "text": [
      "0.8025\n"
     ]
    }
   ],
   "source": [
    "print score"
   ]
  },
  {
   "cell_type": "code",
   "execution_count": 15,
   "metadata": {
    "collapsed": false
   },
   "outputs": [
    {
     "name": "stdout",
     "output_type": "stream",
     "text": [
      "[0 1 0 1 0 0 1 0 1 0 0 0 0 0 0 0 1 0 1 1 1 0 0 1 1 1 1 0 1 0 1 0 0 1 1 1 1\n",
      " 1 0 1 1 0 0 1 0 1 1 0 0 0]\n"
     ]
    }
   ],
   "source": [
    "print Y_cv[:50]"
   ]
  },
  {
   "cell_type": "code",
   "execution_count": 16,
   "metadata": {
    "collapsed": false
   },
   "outputs": [
    {
     "name": "stdout",
     "output_type": "stream",
     "text": [
      "[0 1 0 0 0 0 1 0 1 1 1 1 0 0 0 0 0 0 1 0 0 0 0 1 1 0 0 0 0 0 1 0 0 1 1 1 1\n",
      " 1 0 0 1 0 1 1 0 1 0 0 0 0]\n"
     ]
    }
   ],
   "source": [
    "print Y_cv_pred[:50]"
   ]
  },
  {
   "cell_type": "code",
   "execution_count": null,
   "metadata": {
    "collapsed": true
   },
   "outputs": [],
   "source": []
  },
  {
   "cell_type": "code",
   "execution_count": 17,
   "metadata": {
    "collapsed": false
   },
   "outputs": [],
   "source": [
    "model = LogisticRegression()"
   ]
  },
  {
   "cell_type": "code",
   "execution_count": 18,
   "metadata": {
    "collapsed": false
   },
   "outputs": [],
   "source": [
    "model.fit(X_train, Y_train)\n",
    "Y_cv_pred = model.predict(X_cv)\n",
    "score = accuracy_score(Y_cv_pred, Y_cv)"
   ]
  },
  {
   "cell_type": "code",
   "execution_count": 19,
   "metadata": {
    "collapsed": false
   },
   "outputs": [
    {
     "name": "stdout",
     "output_type": "stream",
     "text": [
      "0.8625\n"
     ]
    }
   ],
   "source": [
    "print score"
   ]
  },
  {
   "cell_type": "code",
   "execution_count": 20,
   "metadata": {
    "collapsed": false
   },
   "outputs": [
    {
     "name": "stdout",
     "output_type": "stream",
     "text": [
      "[0 1 0 1 0 0 1 0 1 0 0 0 0 0 0 0 1 0 1 1 1 0 0 1 1 1 1 0 1 0 1 0 0 1 1 1 1\n",
      " 1 0 1 1 0 0 1 0 1 1 0 0 0]\n"
     ]
    }
   ],
   "source": [
    "print Y_cv[:50]"
   ]
  },
  {
   "cell_type": "code",
   "execution_count": 21,
   "metadata": {
    "collapsed": false
   },
   "outputs": [
    {
     "name": "stdout",
     "output_type": "stream",
     "text": [
      "[0 1 1 0 0 0 1 0 1 0 1 1 0 0 0 0 1 0 1 0 1 0 0 1 1 1 1 0 1 1 1 0 0 1 1 1 1\n",
      " 1 0 1 1 0 1 1 0 1 0 0 0 0]\n"
     ]
    }
   ],
   "source": [
    "print Y_cv_pred[:50]"
   ]
  },
  {
   "cell_type": "code",
   "execution_count": null,
   "metadata": {
    "collapsed": true
   },
   "outputs": [],
   "source": []
  },
  {
   "cell_type": "code",
   "execution_count": null,
   "metadata": {
    "collapsed": true
   },
   "outputs": [],
   "source": []
  }
 ],
 "metadata": {
  "kernelspec": {
   "display_name": "Python 2",
   "language": "python",
   "name": "python2"
  },
  "language_info": {
   "codemirror_mode": {
    "name": "ipython",
    "version": 2
   },
   "file_extension": ".py",
   "mimetype": "text/x-python",
   "name": "python",
   "nbconvert_exporter": "python",
   "pygments_lexer": "ipython2",
   "version": "2.7.8"
  }
 },
 "nbformat": 4,
 "nbformat_minor": 0
}
